{
 "cells": [
  {
   "cell_type": "code",
   "execution_count": 1,
   "metadata": {
    "collapsed": true
   },
   "outputs": [],
   "source": [
    "import evaluate2d as e2\n",
    "import query_engine as qe\n"
   ]
  },
  {
   "cell_type": "code",
   "execution_count": null,
   "metadata": {
    "collapsed": false
   },
   "outputs": [],
   "source": [
    "qe5 = e2.Query_Engine_2d(5,logger_file=\"../results/5.txt\")"
   ]
  },
  {
   "cell_type": "code",
   "execution_count": null,
   "metadata": {
    "collapsed": false
   },
   "outputs": [],
   "source": [
    "exact_results, approx_results, exact_times, approx_times = qe5.mass_query_count(number=1,percent=1)"
   ]
  },
  {
   "cell_type": "code",
   "execution_count": null,
   "metadata": {
    "collapsed": false
   },
   "outputs": [],
   "source": [
    "print exact_results\n",
    "print approx_results\n",
    "qe5.relative_error(exact_results, approx_results)\n",
    "qe5.time_ratio(exact_times, approx_times)"
   ]
  },
  {
   "cell_type": "markdown",
   "metadata": {},
   "source": [
    "#  Dataset 6 Count"
   ]
  },
  {
   "cell_type": "markdown",
   "metadata": {},
   "source": [
    "## 0.5% query range"
   ]
  },
  {
   "cell_type": "code",
   "execution_count": null,
   "metadata": {
    "collapsed": true
   },
   "outputs": [],
   "source": [
    "qe6 = e2.Query_Engine_2d(6,logger_file=\"../results/6_COUNT_0.5.txt\")"
   ]
  },
  {
   "cell_type": "code",
   "execution_count": null,
   "metadata": {
    "collapsed": false
   },
   "outputs": [
    {
     "name": "stderr",
     "output_type": "stream",
     "text": [
      "INFO - start query No.1 out of 1500\n",
      "INFO - Approximate count: 4.5623.\n",
      "INFO - Time spent for approximate COUNT: 0.9431s.\n",
      "INFO - 4\n",
      "INFO - SELECT COUNT(y) FROM table6 WHERE  x BETWEEN 9.69001510568709 AND 9.99112080568709\n",
      "INFO - Time spent for HIVE AVG: 17.1290s.\n",
      "INFO - 9\n",
      "INFO - start query No.2 out of 1500\n",
      "INFO - Approximate count: 3041.8616.\n",
      "INFO - Time spent for approximate COUNT: 1.0441s.\n",
      "INFO - 3041\n",
      "INFO - SELECT COUNT(y) FROM table6 WHERE  x BETWEEN 52.631872862820266 AND 52.93297856282026\n",
      "INFO - Time spent for HIVE AVG: 20.9962s.\n",
      "INFO - 2750\n",
      "INFO - start query No.3 out of 1500\n",
      "INFO - Approximate count: 10204.6692.\n",
      "INFO - Time spent for approximate COUNT: 1.1593s.\n",
      "INFO - 10204\n",
      "INFO - SELECT COUNT(y) FROM table6 WHERE  x BETWEEN 47.593825407837336 AND 47.89493110783733\n",
      "INFO - Time spent for HIVE AVG: 20.0744s.\n",
      "INFO - 10452\n",
      "INFO - start query No.4 out of 1500\n",
      "INFO - Approximate count: 45.8201.\n",
      "INFO - Time spent for approximate COUNT: 0.8897s.\n",
      "INFO - 45\n",
      "INFO - SELECT COUNT(y) FROM table6 WHERE  x BETWEEN 16.958994658717316 AND 17.260100358717317\n",
      "INFO - Time spent for HIVE AVG: 21.0783s.\n",
      "INFO - 44\n",
      "INFO - start query No.5 out of 1500\n",
      "INFO - Approximate count: 1564.2340.\n",
      "INFO - Time spent for approximate COUNT: 0.6361s.\n",
      "INFO - 1564\n",
      "INFO - SELECT COUNT(y) FROM table6 WHERE  x BETWEEN 31.434112890675966 AND 31.735218590675967\n",
      "INFO - Time spent for HIVE AVG: 20.0273s.\n",
      "INFO - 1564\n",
      "INFO - start query No.6 out of 1500\n",
      "INFO - Approximate count: 896.6235.\n",
      "INFO - Time spent for approximate COUNT: 0.5961s.\n",
      "INFO - 896\n",
      "INFO - SELECT COUNT(y) FROM table6 WHERE  x BETWEEN 28.66731149139167 AND 28.96841719139167\n",
      "INFO - Time spent for HIVE AVG: 19.9499s.\n",
      "INFO - 821\n",
      "INFO - start query No.7 out of 1500\n",
      "INFO - Approximate count: 8038.4390.\n",
      "INFO - Time spent for approximate COUNT: 1.0753s.\n",
      "INFO - 8038\n",
      "INFO - SELECT COUNT(y) FROM table6 WHERE  x BETWEEN 40.83811878335369 AND 41.139224483353686\n",
      "INFO - Time spent for HIVE AVG: 20.0715s.\n",
      "INFO - 8071\n",
      "INFO - start query No.8 out of 1500\n",
      "INFO - Approximate count: 8857.5336.\n",
      "INFO - Time spent for approximate COUNT: 1.2152s.\n",
      "INFO - 8857\n",
      "INFO - SELECT COUNT(y) FROM table6 WHERE  x BETWEEN 49.0962665000009 AND 49.397372200000895\n",
      "INFO - Time spent for HIVE AVG: 20.4818s.\n",
      "INFO - 8965\n",
      "INFO - start query No.9 out of 1500\n",
      "INFO - Approximate count: 2.0539.\n",
      "INFO - Time spent for approximate COUNT: 0.7264s.\n",
      "INFO - 2\n",
      "INFO - SELECT COUNT(y) FROM table6 WHERE  x BETWEEN 7.250778465473347 AND 7.551884165473348\n",
      "INFO - Time spent for HIVE AVG: 21.0148s.\n",
      "INFO - 4\n",
      "INFO - start query No.10 out of 1500\n",
      "INFO - Approximate count: 0.6979.\n",
      "INFO - Time spent for approximate COUNT: 0.2795s.\n",
      "INFO - 0\n",
      "INFO - SELECT COUNT(y) FROM table6 WHERE  x BETWEEN 3.305564502278455 AND 3.606670202278455\n",
      "INFO - Time spent for HIVE AVG: 21.0292s.\n",
      "INFO - 1\n",
      "INFO - start query No.11 out of 1500\n",
      "INFO - Approximate count: 4380.1059.\n",
      "INFO - Time spent for approximate COUNT: 1.1281s.\n",
      "INFO - 4380\n",
      "INFO - SELECT COUNT(y) FROM table6 WHERE  x BETWEEN 51.929174480273026 AND 52.23028018027302\n"
     ]
    }
   ],
   "source": [
    "exact_results6_count_0_5, approx_results6_count_0_5, exact_times6_count_0_5, approx_times6_count_0_5 = qe6.mass_query_count(number=1500,percent=0.5)"
   ]
  },
  {
   "cell_type": "markdown",
   "metadata": {},
   "source": [
    "## 1% query range"
   ]
  },
  {
   "cell_type": "code",
   "execution_count": null,
   "metadata": {
    "collapsed": true
   },
   "outputs": [],
   "source": [
    "qe6.logger.set_logging(file_name=\"../results/6_COUNT_1.txt\")"
   ]
  },
  {
   "cell_type": "code",
   "execution_count": null,
   "metadata": {
    "collapsed": false
   },
   "outputs": [],
   "source": [
    "exact_results6_count_1, approx_results6_count_1, exact_times6_count_1, approx_times6_count_1 = qe6.mass_query_count(number=1500,percent=5)"
   ]
  },
  {
   "cell_type": "markdown",
   "metadata": {},
   "source": [
    "## 5% query range"
   ]
  },
  {
   "cell_type": "code",
   "execution_count": null,
   "metadata": {
    "collapsed": true
   },
   "outputs": [],
   "source": [
    "qe6.logger.set_logging(file_name=\"../results/6_COUNT_5.txt\")"
   ]
  },
  {
   "cell_type": "code",
   "execution_count": null,
   "metadata": {
    "collapsed": true
   },
   "outputs": [],
   "source": [
    "exact_results6_count_5, approx_results6_count_5, exact_times6_count_5, approx_times6_count_5 = qe6.mass_query_count(number=1500,percent=5)"
   ]
  }
 ],
 "metadata": {
  "kernelspec": {
   "display_name": "Python 2",
   "language": "python",
   "name": "python2"
  },
  "language_info": {
   "codemirror_mode": {
    "name": "ipython",
    "version": 2
   },
   "file_extension": ".py",
   "mimetype": "text/x-python",
   "name": "python",
   "nbconvert_exporter": "python",
   "pygments_lexer": "ipython2",
   "version": "2.7.13"
  }
 },
 "nbformat": 4,
 "nbformat_minor": 2
}
